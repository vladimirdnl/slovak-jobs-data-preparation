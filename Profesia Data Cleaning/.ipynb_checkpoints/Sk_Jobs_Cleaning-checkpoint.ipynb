{
 "cells": [
  {
   "cell_type": "markdown",
   "id": "7ff82ee0-822c-4a07-bbbf-f28d5b1713af",
   "metadata": {
    "tags": []
   },
   "source": [
    "# Slovak Jobs Data Preparation"
   ]
  },
  {
   "cell_type": "markdown",
   "id": "8cf2ad28-c2d0-47b5-9ddc-fe9eaf123eae",
   "metadata": {},
   "source": [
    "**`Table of contents:`**\n",
    "<br>\n",
    "- <a href = '#desc'> Short description </a> \n",
    "- <a href = '#load'> Importing libs and getting the data </a>\n",
    "- <a href = '#rewr_nan'>Re-writing missing values</a>\n",
    "- <a href = '#salaries'>Creating float-type salaries</a>\n",
    "    1. <a href = '#get_cur'>Getting all the currencies</a>\n",
    "    2. <a href = '#conv_func'>Creating conversion functions</a>\n",
    "    3. <a href = '#sal_ext'>Salary extraction</a>\n",
    "    4. <a href = '#ins_newcol'>Inserting new columns (Start and End monthly salary)</a>\n",
    "- <a href = '#loc_job'>Working with job location</a>\n",
    "    1. <a href = '#city_imp'>Cities data import</a>\n",
    "    2. <a href = '#new_cols'>Adding new columns</a>\n",
    "    3. <a href = '#func_city'>Processing by city</a>\n",
    "    4. <a href = '#func_dist'>Processing by district</a>\n",
    "    5. <a href = '#func_country'>Processing by country</a>\n",
    "- <a href = '#del_dup'>Dealing with duplicates</a>\n",
    "- <a href = '#save'>Saving the prepared data</a>"
   ]
  },
  {
   "cell_type": "markdown",
   "id": "4c381a11-5d52-4ae9-9812-8258bf8fde0a",
   "metadata": {},
   "source": [
    "<a id = 'desc'></a>"
   ]
  },
  {
   "cell_type": "markdown",
   "id": "83815659-27cd-4588-9502-40f31882e5fe",
   "metadata": {},
   "source": [
    "## Short description "
   ]
  },
  {
   "cell_type": "markdown",
   "id": "3edb7cc0-6de7-4a58-8e03-fab93028f922",
   "metadata": {},
   "source": [
    "After I scrabbed raw data from the biggest slovak website for finding jobs <a href = \"https://www.profesia.sk/praca/\">**profesia.sk**</a>, I have to prepare it and clean it to make a good-looking dataset for further usage in the analysis. <br>"
   ]
  },
  {
   "cell_type": "markdown",
   "id": "dd49480e-d94b-4c16-a460-80be1e93610a",
   "metadata": {},
   "source": [
    "<a id = 'load'></a>"
   ]
  },
  {
   "cell_type": "markdown",
   "id": "76a30157-d116-4496-8aed-248ee1d2f449",
   "metadata": {
    "tags": []
   },
   "source": [
    "## Importing libs and getting the data"
   ]
  },
  {
   "cell_type": "code",
   "execution_count": 1,
   "id": "d675800a-ac2c-4b9b-8af2-f5f5081d3e4e",
   "metadata": {},
   "outputs": [],
   "source": [
    "import pandas as pd\n",
    "import numpy as np\n",
    "csv_rel_path = 'Scrapper/prsk_jobs.csv'\n",
    "data_jobs = pd.read_csv(csv_rel_path, sep=',')"
   ]
  },
  {
   "cell_type": "code",
   "execution_count": 2,
   "id": "6dbf8e61-224a-4ba6-8e73-988b1f482274",
   "metadata": {},
   "outputs": [
    {
     "name": "stdout",
     "output_type": "stream",
     "text": [
      "<class 'pandas.core.frame.DataFrame'>\n",
      "RangeIndex: 133169 entries, 0 to 133168\n",
      "Data columns (total 8 columns):\n",
      " #   Column             Non-Null Count   Dtype \n",
      "---  ------             --------------   ----- \n",
      " 0   Job                133169 non-null  object\n",
      " 1   Employer           133169 non-null  object\n",
      " 2   Location           133138 non-null  object\n",
      " 3   Salary             133169 non-null  object\n",
      " 4   WO_CV              133169 non-null  int64 \n",
      " 5   Paid_ride_to_work  133169 non-null  int64 \n",
      " 6   Housing            133169 non-null  int64 \n",
      " 7   Available_for_UKR  133169 non-null  int64 \n",
      "dtypes: int64(4), object(4)\n",
      "memory usage: 8.1+ MB\n",
      "----------------------------------------------\n"
     ]
    },
    {
     "data": {
      "text/html": [
       "<div>\n",
       "<style scoped>\n",
       "    .dataframe tbody tr th:only-of-type {\n",
       "        vertical-align: middle;\n",
       "    }\n",
       "\n",
       "    .dataframe tbody tr th {\n",
       "        vertical-align: top;\n",
       "    }\n",
       "\n",
       "    .dataframe thead th {\n",
       "        text-align: right;\n",
       "    }\n",
       "</style>\n",
       "<table border=\"1\" class=\"dataframe\">\n",
       "  <thead>\n",
       "    <tr style=\"text-align: right;\">\n",
       "      <th></th>\n",
       "      <th>Job</th>\n",
       "      <th>Employer</th>\n",
       "      <th>Location</th>\n",
       "      <th>Salary</th>\n",
       "      <th>WO_CV</th>\n",
       "      <th>Paid_ride_to_work</th>\n",
       "      <th>Housing</th>\n",
       "      <th>Available_for_UKR</th>\n",
       "    </tr>\n",
       "  </thead>\n",
       "  <tbody>\n",
       "    <tr>\n",
       "      <th>0</th>\n",
       "      <td>.NET Programmer</td>\n",
       "      <td>Metrohm Research Slovakia s. r. o.</td>\n",
       "      <td>Einsteinova 33 Petržalka</td>\n",
       "      <td>From 2 500 EUR/month</td>\n",
       "      <td>0</td>\n",
       "      <td>0</td>\n",
       "      <td>0</td>\n",
       "      <td>0</td>\n",
       "    </tr>\n",
       "    <tr>\n",
       "      <th>1</th>\n",
       "      <td>.NET Programmer</td>\n",
       "      <td>Metrohm Research Slovakia s. r. o.</td>\n",
       "      <td>Einsteinova 33 Petržalka</td>\n",
       "      <td>2 300 - 3 800 EUR/month</td>\n",
       "      <td>0</td>\n",
       "      <td>0</td>\n",
       "      <td>0</td>\n",
       "      <td>0</td>\n",
       "    </tr>\n",
       "    <tr>\n",
       "      <th>2</th>\n",
       "      <td>.NET Programmer</td>\n",
       "      <td>CRIF - Slovak Credit Bureau s. r. o.</td>\n",
       "      <td>Štětkova 1638/18 140 00 Praha 4-Nusle Czechia ...</td>\n",
       "      <td>2 300 EUR/month</td>\n",
       "      <td>0</td>\n",
       "      <td>0</td>\n",
       "      <td>0</td>\n",
       "      <td>0</td>\n",
       "    </tr>\n",
       "  </tbody>\n",
       "</table>\n",
       "</div>"
      ],
      "text/plain": [
       "               Job                              Employer  \\\n",
       "0  .NET Programmer    Metrohm Research Slovakia s. r. o.   \n",
       "1  .NET Programmer    Metrohm Research Slovakia s. r. o.   \n",
       "2  .NET Programmer  CRIF - Slovak Credit Bureau s. r. o.   \n",
       "\n",
       "                                            Location                   Salary  \\\n",
       "0                           Einsteinova 33 Petržalka     From 2 500 EUR/month   \n",
       "1                           Einsteinova 33 Petržalka  2 300 - 3 800 EUR/month   \n",
       "2  Štětkova 1638/18 140 00 Praha 4-Nusle Czechia ...          2 300 EUR/month   \n",
       "\n",
       "   WO_CV  Paid_ride_to_work  Housing  Available_for_UKR  \n",
       "0      0                  0        0                  0  \n",
       "1      0                  0        0                  0  \n",
       "2      0                  0        0                  0  "
      ]
     },
     "execution_count": 2,
     "metadata": {},
     "output_type": "execute_result"
    }
   ],
   "source": [
    "data_jobs.info()\n",
    "print('----------------------------------------------')\n",
    "data_jobs.head(3)"
   ]
  },
  {
   "cell_type": "markdown",
   "id": "2039b852-3ee2-4800-9e6f-fbf9860b94ed",
   "metadata": {},
   "source": [
    "<a id = 'rewr_nan'></a>"
   ]
  },
  {
   "cell_type": "markdown",
   "id": "d37cd46c-88cf-4321-8aa6-f9814efd729b",
   "metadata": {},
   "source": [
    "## Re-writing missing values"
   ]
  },
  {
   "cell_type": "markdown",
   "id": "81582971-63cd-4e30-b4e5-9d591b235b25",
   "metadata": {},
   "source": [
    "During scrapping, all the missing text-type values were assinged to `'None'`.<br>\n",
    "The next step is to check how many of those are in the dataframe, and change them to regular `NaN` expressions accordingly."
   ]
  },
  {
   "cell_type": "code",
   "execution_count": 3,
   "id": "b9cd53ed-b26b-4cb0-a324-0f9f469b9e54",
   "metadata": {},
   "outputs": [
    {
     "name": "stdout",
     "output_type": "stream",
     "text": [
      "Column: Job\n",
      "'None' count: 0\n",
      "--------------------------\n",
      "Column: Employer\n",
      "'None' count: 0\n",
      "--------------------------\n",
      "Column: Location\n",
      "'None' count: 90\n",
      "--------------------------\n",
      "Column: Salary\n",
      "'None' count: 4941\n",
      "--------------------------\n"
     ]
    }
   ],
   "source": [
    "#Firstly, lets check only string-type colums for 'None' instances\n",
    "#and write their labels to a list for further use\n",
    "cols_with_None = []\n",
    "for col in data_jobs.select_dtypes(include = 'object').columns:\n",
    "    print(f'Column: {col}')\n",
    "    None_count = (data_jobs[col] == 'None').sum()\n",
    "    print(f\"'None' count: {None_count}\")\n",
    "    print('--------------------------')\n",
    "    if None_count != 0:\n",
    "        cols_with_None.append(col)"
   ]
  },
  {
   "cell_type": "code",
   "execution_count": 4,
   "id": "25dc4509-2de1-44e8-bb55-ec5d8dbc9719",
   "metadata": {},
   "outputs": [],
   "source": [
    "#Now, after checking, lets change instances\n",
    "#having 'None' strings to actual NaNs\n",
    "for col in cols_with_None:\n",
    "    for ind in data_jobs.index:\n",
    "        if data_jobs.loc[ind, col] == 'None':\n",
    "            data_jobs.loc[ind, col] = float(\"NaN\")"
   ]
  },
  {
   "cell_type": "code",
   "execution_count": 5,
   "id": "dfbb213f-b5c4-4eb3-81fb-4bc34a6f2d65",
   "metadata": {},
   "outputs": [
    {
     "name": "stdout",
     "output_type": "stream",
     "text": [
      "1) Column label: Location\n",
      "'None' count: 0\n",
      " NaN count: 121\n",
      "2) Column label: Salary\n",
      "'None' count: 0\n",
      " NaN count: 4941\n"
     ]
    }
   ],
   "source": [
    "#Checking if all the instances were changed correctly:\n",
    "for ind, col in enumerate(cols_with_None):\n",
    "    print(f\"{ind+1}) Column label: {col}\")\n",
    "    print(f\"'None' count: {(data_jobs[col] == 'None').sum()}\")\n",
    "    print(f\" NaN count: {pd.isnull(data_jobs[col]).sum()}\")"
   ]
  },
  {
   "cell_type": "markdown",
   "id": "00f2b04e-629a-443b-80f8-2af475c18a10",
   "metadata": {},
   "source": [
    "<a id = 'salaries'></a>"
   ]
  },
  {
   "cell_type": "markdown",
   "id": "859ae0e2-0787-4a16-94b4-907035c1e11f",
   "metadata": {},
   "source": [
    "## Creating float-type salaries"
   ]
  },
  {
   "cell_type": "markdown",
   "id": "851e0260-65e5-44e6-8552-98133c3f18ae",
   "metadata": {},
   "source": [
    "The website can contain jobs from neighboring countries, so the first step in creating float-type salaries would be currency investigation and creation of convertation functions."
   ]
  },
  {
   "cell_type": "markdown",
   "id": "641a8d46-f3e0-4045-84b0-946ae5044982",
   "metadata": {},
   "source": [
    "<a id = 'get_cur'></a>"
   ]
  },
  {
   "cell_type": "markdown",
   "id": "46d1d5af-e2ce-4a47-98fd-2c443532edaa",
   "metadata": {},
   "source": [
    "### Getting all the currencies"
   ]
  },
  {
   "cell_type": "code",
   "execution_count": 6,
   "id": "f39ee252-48d4-4bc4-b9d4-a26a62c75cea",
   "metadata": {},
   "outputs": [],
   "source": [
    "#Define a function which extracts a currency from a typical salary string\n",
    "#As it is known about the data, salary typically contains words 'from', 'month', 'hour',\n",
    "# which also need to be excluded from the string\n",
    "def get_currency(text):\n",
    "    a = text\n",
    "    for ch in '0123456789-. ':\n",
    "        a = a.replace(ch, '')\n",
    "    a = a.replace('From', '') #from\n",
    "    a = a.replace('/', '')\n",
    "    a = a.replace('month', '') #a month\n",
    "    a = a.replace('hour', '') #an hour\n",
    "    return a"
   ]
  },
  {
   "cell_type": "code",
   "execution_count": 7,
   "id": "cb4b24c1-5a13-4076-a035-45cc7b74c4dc",
   "metadata": {},
   "outputs": [
    {
     "data": {
      "text/plain": [
       "['EUR', 'Kč', 'Ft']"
      ]
     },
     "execution_count": 7,
     "metadata": {},
     "output_type": "execute_result"
    }
   ],
   "source": [
    "#Lets check all the instances and extract currencies from them\n",
    "instances = []\n",
    "for ind in data_jobs.index:\n",
    "    if not pd.isnull(data_jobs.loc[ind, 'Salary']):\n",
    "        instances.append(get_currency(data_jobs.loc[ind, 'Salary']))\n",
    "\n",
    "#Lets see all the unique currency instances\n",
    "all_currencies = list(set(instances))\n",
    "all_currencies"
   ]
  },
  {
   "cell_type": "markdown",
   "id": "5dace6bd-7f41-4752-8c25-43503e84db1a",
   "metadata": {},
   "source": [
    "<a id = 'conv_func'></a>"
   ]
  },
  {
   "cell_type": "markdown",
   "id": "084f05bb-7d65-420c-9a21-8f9137befcf3",
   "metadata": {},
   "source": [
    "### Creating conversion functions"
   ]
  },
  {
   "cell_type": "markdown",
   "id": "83bcfc3f-3a94-4243-91ee-b5a3290e6930",
   "metadata": {},
   "source": [
    "The initial hypothesis about different currencies was confirmed and we see three different currencies, from which only `EUR` is mostly used all over the world. <br>\n",
    "Let's create a converter from `Kč` and `Ft` to `EUR`. As a multiplier I will take currency relationships during the **month of dataset creation** (May of 2022)."
   ]
  },
  {
   "cell_type": "code",
   "execution_count": 8,
   "id": "5ca24477-ff11-49e6-adaf-aca90ca49801",
   "metadata": {},
   "outputs": [],
   "source": [
    "#Conversion to EUR\n",
    "# 1 Kč = 0.041 EUR\n",
    "# 1 Ft = 0.0026 EUR\n",
    "def conversion_toEUR(money, currency):\n",
    "    if currency == 'Kč':\n",
    "        return round(0.041 * money, 2)\n",
    "    elif currency == 'Ft':\n",
    "        return round(0.0026 * money, 2)\n",
    "    elif currency == 'EUR':\n",
    "        return money\n",
    "    else:\n",
    "        raise TypeError('Currency does not correspond to conversion function. Either update the function or change currency manually. ')"
   ]
  },
  {
   "cell_type": "markdown",
   "id": "a7b463b3-083b-419f-b606-c0be5cbdd7d9",
   "metadata": {},
   "source": [
    "Now, as the **currency conversion function** is defined, it is important to define function which will convert `hourly` wage to `monthly` wage, since all the salary should be on the same level of comparison."
   ]
  },
  {
   "cell_type": "code",
   "execution_count": 9,
   "id": "fb72fb4d-5b0d-484c-8b14-83e6b1593671",
   "metadata": {},
   "outputs": [],
   "source": [
    "#The average hours people spend working is 173.33 hrs/month\n",
    "def conversion_toMonthly(money_hourly):\n",
    "    return round(money_hourly * 173.33, 2)"
   ]
  },
  {
   "cell_type": "markdown",
   "id": "fc0261c6-5ccf-4686-a194-3d088c4f240e",
   "metadata": {},
   "source": [
    "<a id = 'sal_ext'></a>"
   ]
  },
  {
   "cell_type": "markdown",
   "id": "3e2d2be0-c2ca-4484-a7f6-00dd06b79b15",
   "metadata": {},
   "source": [
    "### Salary extraction"
   ]
  },
  {
   "cell_type": "markdown",
   "id": "737a1439-f89a-4542-b1bb-6ba693d76fca",
   "metadata": {},
   "source": [
    "The last step would be extraction of salaries and their **range** from dataset and creating separate columns in the dataset."
   ]
  },
  {
   "cell_type": "code",
   "execution_count": 10,
   "id": "55bec287-2b48-46bd-9f6f-76cabc02c8ef",
   "metadata": {},
   "outputs": [],
   "source": [
    "#Let's create a function, which will take the string salary\n",
    "# and transform it into a list, which contains starting and max salary\n",
    "# (if the salary is fixed - starting and max salaries are the same)\n",
    "\n",
    "def get_salary(text):\n",
    "    \n",
    "    #checking for NaN\n",
    "    if pd.isnull(text):\n",
    "        #if it is NaN - return list of NaNs\n",
    "        return [float('NaN'), float('NaN')]\n",
    "    \n",
    "    #creating initial variables\n",
    "    a = text\n",
    "    currency = get_currency(a)\n",
    "    is_hourly = False\n",
    "    \n",
    "    #deleting unnecesarry characters and words\n",
    "    a = a.replace('From', '') #from\n",
    "    a = a.replace('/', '')\n",
    "    a = a.replace(' ', '')\n",
    "    a = a.replace(currency, '')\n",
    "    a = a.replace('month', '') #a month\n",
    "    \n",
    "    #if hod is in the instance - that means the wage is hourly\n",
    "    if 'hour' in text:\n",
    "        is_hourly = True\n",
    "        #getting rid of the word hod/hod.\n",
    "        a = a.replace('hour', '') #an hour\n",
    "    \n",
    "    #splitting numbers\n",
    "    a = a.split('-')\n",
    "    \n",
    "    #if there are two numbers\n",
    "    if len(a) == 2:\n",
    "        \n",
    "        #if the wage is hourly\n",
    "        if is_hourly:\n",
    "            #convert every salary to monthly salary\n",
    "            start_salary = conversion_toMonthly(float(a[0]))\n",
    "            end_salary = conversion_toMonthly(float(a[1]))\n",
    "        \n",
    "        else:\n",
    "            #else write as it is\n",
    "            start_salary = float(a[0])\n",
    "            end_salary = float(a[1])\n",
    "            \n",
    "    #if there is only one number        \n",
    "    else:\n",
    "        #if hourly\n",
    "        if is_hourly:\n",
    "            #convert to monthly salary and write equal salaries\n",
    "            start_salary = end_salary = conversion_toMonthly(float(a[0]))\n",
    "        else:\n",
    "            #just write equal salaries\n",
    "            start_salary = end_salary = float(a[0])\n",
    "    \n",
    "    #Converting salaries to EUR and returning them\n",
    "    start_salary = conversion_toEUR(start_salary, currency)\n",
    "    end_salary = conversion_toEUR(end_salary, currency)\n",
    "    return [start_salary, end_salary]"
   ]
  },
  {
   "cell_type": "code",
   "execution_count": 11,
   "id": "999e1164-ce96-4460-b3c4-ec5ce0a8fcd3",
   "metadata": {},
   "outputs": [],
   "source": [
    "#creating initial float arrays\n",
    "start_salaries = np.zeros(len(data_jobs), dtype = 'float64')\n",
    "end_salaries = np.zeros(len(data_jobs), dtype = 'float64')\n",
    "\n",
    "#writing salaries to arrays accordingly\n",
    "for ind, instance in zip(data_jobs['Salary'].index, data_jobs['Salary']):\n",
    "    start_salary, end_salary = get_salary(instance)\n",
    "    start_salaries[ind] += start_salary \n",
    "    end_salaries[ind] += end_salary"
   ]
  },
  {
   "cell_type": "markdown",
   "id": "54edc511-fce5-4352-a750-aed7aa6a5dc0",
   "metadata": {},
   "source": [
    "<a id = 'ins_newcol'></a>"
   ]
  },
  {
   "cell_type": "markdown",
   "id": "d23e5e03-90a4-4ebf-96ce-e21ab2e6cc1a",
   "metadata": {},
   "source": [
    "### Inserting new columns (Start and End monthly salary)"
   ]
  },
  {
   "cell_type": "code",
   "execution_count": 12,
   "id": "b6c2c90a-ff8a-4826-b942-bd501f814783",
   "metadata": {},
   "outputs": [],
   "source": [
    "#inserting Start and End Salary columns with float values\n",
    "index_Salary = data_jobs.columns.get_loc(\"Salary\")\n",
    "data_jobs.insert(index_Salary+1, 'Start_salary_EUR_mon', start_salaries)\n",
    "data_jobs.insert(index_Salary+2, 'End_salary_EUR_mon', end_salaries)\n",
    "\n",
    "#Dropping initial Salary column\n",
    "data_jobs.drop(labels = 'Salary', axis = 1, inplace = True)"
   ]
  },
  {
   "cell_type": "code",
   "execution_count": 13,
   "id": "12418912-47db-4e8a-8506-a0f162aac17c",
   "metadata": {},
   "outputs": [
    {
     "data": {
      "text/html": [
       "<div>\n",
       "<style scoped>\n",
       "    .dataframe tbody tr th:only-of-type {\n",
       "        vertical-align: middle;\n",
       "    }\n",
       "\n",
       "    .dataframe tbody tr th {\n",
       "        vertical-align: top;\n",
       "    }\n",
       "\n",
       "    .dataframe thead th {\n",
       "        text-align: right;\n",
       "    }\n",
       "</style>\n",
       "<table border=\"1\" class=\"dataframe\">\n",
       "  <thead>\n",
       "    <tr style=\"text-align: right;\">\n",
       "      <th></th>\n",
       "      <th>Job</th>\n",
       "      <th>Employer</th>\n",
       "      <th>Location</th>\n",
       "      <th>Start_salary_EUR_mon</th>\n",
       "      <th>End_salary_EUR_mon</th>\n",
       "      <th>WO_CV</th>\n",
       "      <th>Paid_ride_to_work</th>\n",
       "      <th>Housing</th>\n",
       "      <th>Available_for_UKR</th>\n",
       "    </tr>\n",
       "  </thead>\n",
       "  <tbody>\n",
       "    <tr>\n",
       "      <th>0</th>\n",
       "      <td>.NET Programmer</td>\n",
       "      <td>Metrohm Research Slovakia s. r. o.</td>\n",
       "      <td>Einsteinova 33 Petržalka</td>\n",
       "      <td>2500.0</td>\n",
       "      <td>2500.0</td>\n",
       "      <td>0</td>\n",
       "      <td>0</td>\n",
       "      <td>0</td>\n",
       "      <td>0</td>\n",
       "    </tr>\n",
       "    <tr>\n",
       "      <th>1</th>\n",
       "      <td>.NET Programmer</td>\n",
       "      <td>Metrohm Research Slovakia s. r. o.</td>\n",
       "      <td>Einsteinova 33 Petržalka</td>\n",
       "      <td>2300.0</td>\n",
       "      <td>3800.0</td>\n",
       "      <td>0</td>\n",
       "      <td>0</td>\n",
       "      <td>0</td>\n",
       "      <td>0</td>\n",
       "    </tr>\n",
       "    <tr>\n",
       "      <th>2</th>\n",
       "      <td>.NET Programmer</td>\n",
       "      <td>CRIF - Slovak Credit Bureau s. r. o.</td>\n",
       "      <td>Štětkova 1638/18 140 00 Praha 4-Nusle Czechia ...</td>\n",
       "      <td>2300.0</td>\n",
       "      <td>2300.0</td>\n",
       "      <td>0</td>\n",
       "      <td>0</td>\n",
       "      <td>0</td>\n",
       "      <td>0</td>\n",
       "    </tr>\n",
       "  </tbody>\n",
       "</table>\n",
       "</div>"
      ],
      "text/plain": [
       "               Job                              Employer  \\\n",
       "0  .NET Programmer    Metrohm Research Slovakia s. r. o.   \n",
       "1  .NET Programmer    Metrohm Research Slovakia s. r. o.   \n",
       "2  .NET Programmer  CRIF - Slovak Credit Bureau s. r. o.   \n",
       "\n",
       "                                            Location  Start_salary_EUR_mon  \\\n",
       "0                           Einsteinova 33 Petržalka                2500.0   \n",
       "1                           Einsteinova 33 Petržalka                2300.0   \n",
       "2  Štětkova 1638/18 140 00 Praha 4-Nusle Czechia ...                2300.0   \n",
       "\n",
       "   End_salary_EUR_mon  WO_CV  Paid_ride_to_work  Housing  Available_for_UKR  \n",
       "0              2500.0      0                  0        0                  0  \n",
       "1              3800.0      0                  0        0                  0  \n",
       "2              2300.0      0                  0        0                  0  "
      ]
     },
     "execution_count": 13,
     "metadata": {},
     "output_type": "execute_result"
    }
   ],
   "source": [
    "data_jobs.head(3)"
   ]
  },
  {
   "cell_type": "markdown",
   "id": "1a74f55a-aae6-4f6f-9f2d-c6f10ae25478",
   "metadata": {},
   "source": [
    "<a id = 'loc_job'></a>"
   ]
  },
  {
   "cell_type": "markdown",
   "id": "4e1383e9-5c01-48d5-9515-f0bcf07a93db",
   "metadata": {},
   "source": [
    "## Working with job location"
   ]
  },
  {
   "cell_type": "markdown",
   "id": "41cbcd82-6e8c-4d6b-9bbc-da595270cb61",
   "metadata": {},
   "source": [
    "To start off with cleaning location data I thought of the important values I need to put in the new Location column. <br>\n",
    "*Job locations* have 3 options: **fully remote**, **half-remote** ('with occasional home office') and **at certain location**.\n",
    "<br>\n",
    "<br>\n",
    "The resulting columns would be: `fully_remote`, `half_remote`, `Country`, `City`."
   ]
  },
  {
   "cell_type": "markdown",
   "id": "b38bbcd9-dd64-4218-8b3e-c48b1babd61f",
   "metadata": {},
   "source": [
    "<a id = 'city_imp'></a>"
   ]
  },
  {
   "cell_type": "markdown",
   "id": "f252f47b-f566-4cbe-972b-1b87802e1e67",
   "metadata": {},
   "source": [
    "### Cities data import"
   ]
  },
  {
   "cell_type": "markdown",
   "id": "dbec8e62-16a6-416a-8f39-b40ff0a01736",
   "metadata": {},
   "source": [
    "Datasets of cities were downloaded and used under free MIT licence from <a href = 'https://simplemaps.com/'>**Simplemaps**</a>: <br>\n",
    "<a href = 'https://simplemaps.com/data/hu-cities'>`Hungary cities database`</a>\n",
    "<br>\n",
    "<a href = 'https://simplemaps.com/data/sk-cities'>`Slovakia cities database`</a>\n",
    "<br>\n",
    "<a href = 'https://simplemaps.com/data/cz-cities'>`Czechia cities database`</a>\n",
    "<br>\n",
    "<a href = 'https://simplemaps.com/data/pl-cities'>`Poland cities database`</a>\n",
    "<br>\n",
    "<a href = 'https://simplemaps.com/data/at-cities'>`Austria cities database`</a>\n",
    "<br>"
   ]
  },
  {
   "cell_type": "code",
   "execution_count": 14,
   "id": "76f88d40-5fa8-40d3-869a-a2b35aa10d51",
   "metadata": {},
   "outputs": [],
   "source": [
    "sk_cities = pd.read_csv('Cities/sk.csv', sep = ',')\n",
    "hu_cities = pd.read_csv('Cities/hu.csv', sep = ',')\n",
    "cz_cities = pd.read_csv('Cities/cz.csv', sep = ',')\n",
    "pl_cities = pd.read_csv('Cities/pl.csv', sep = ',')\n",
    "at_cities = pd.read_csv('Cities/at.csv', sep = ',')\n",
    "\n",
    "countries = [sk_cities, hu_cities, cz_cities, pl_cities, at_cities]"
   ]
  },
  {
   "cell_type": "code",
   "execution_count": 15,
   "id": "19364a3d-dd80-4046-86fc-7775f58e45c4",
   "metadata": {},
   "outputs": [
    {
     "name": "stdout",
     "output_type": "stream",
     "text": [
      "Size of the dataset: 877\n"
     ]
    },
    {
     "data": {
      "text/html": [
       "<div>\n",
       "<style scoped>\n",
       "    .dataframe tbody tr th:only-of-type {\n",
       "        vertical-align: middle;\n",
       "    }\n",
       "\n",
       "    .dataframe tbody tr th {\n",
       "        vertical-align: top;\n",
       "    }\n",
       "\n",
       "    .dataframe thead th {\n",
       "        text-align: right;\n",
       "    }\n",
       "</style>\n",
       "<table border=\"1\" class=\"dataframe\">\n",
       "  <thead>\n",
       "    <tr style=\"text-align: right;\">\n",
       "      <th></th>\n",
       "      <th>city</th>\n",
       "      <th>lat</th>\n",
       "      <th>lng</th>\n",
       "      <th>country</th>\n",
       "      <th>iso2</th>\n",
       "      <th>admin_name</th>\n",
       "      <th>capital</th>\n",
       "      <th>population</th>\n",
       "      <th>population_proper</th>\n",
       "    </tr>\n",
       "  </thead>\n",
       "  <tbody>\n",
       "    <tr>\n",
       "      <th>0</th>\n",
       "      <td>Bratislava</td>\n",
       "      <td>48.1447</td>\n",
       "      <td>17.1128</td>\n",
       "      <td>Slovakia</td>\n",
       "      <td>SK</td>\n",
       "      <td>Bratislavský</td>\n",
       "      <td>primary</td>\n",
       "      <td>429564.0</td>\n",
       "      <td>429564.0</td>\n",
       "    </tr>\n",
       "    <tr>\n",
       "      <th>1</th>\n",
       "      <td>Košice</td>\n",
       "      <td>48.7167</td>\n",
       "      <td>21.2500</td>\n",
       "      <td>Slovakia</td>\n",
       "      <td>SK</td>\n",
       "      <td>Košický</td>\n",
       "      <td>admin</td>\n",
       "      <td>238593.0</td>\n",
       "      <td>238593.0</td>\n",
       "    </tr>\n",
       "    <tr>\n",
       "      <th>2</th>\n",
       "      <td>Petržalka</td>\n",
       "      <td>48.1333</td>\n",
       "      <td>17.1167</td>\n",
       "      <td>Slovakia</td>\n",
       "      <td>SK</td>\n",
       "      <td>Bratislavský</td>\n",
       "      <td>NaN</td>\n",
       "      <td>103190.0</td>\n",
       "      <td>103190.0</td>\n",
       "    </tr>\n",
       "  </tbody>\n",
       "</table>\n",
       "</div>"
      ],
      "text/plain": [
       "         city      lat      lng   country iso2    admin_name  capital  \\\n",
       "0  Bratislava  48.1447  17.1128  Slovakia   SK  Bratislavský  primary   \n",
       "1      Košice  48.7167  21.2500  Slovakia   SK       Košický    admin   \n",
       "2   Petržalka  48.1333  17.1167  Slovakia   SK  Bratislavský      NaN   \n",
       "\n",
       "   population  population_proper  \n",
       "0    429564.0           429564.0  \n",
       "1    238593.0           238593.0  \n",
       "2    103190.0           103190.0  "
      ]
     },
     "execution_count": 15,
     "metadata": {},
     "output_type": "execute_result"
    }
   ],
   "source": [
    "#Sample of the datset\n",
    "#(All the datasets have the same column names)\n",
    "print(f'Size of the dataset: {len(sk_cities)}')\n",
    "sk_cities.head(3)"
   ]
  },
  {
   "cell_type": "markdown",
   "id": "0faad49d-3bd7-43f9-953c-09a6f3011a43",
   "metadata": {},
   "source": [
    "<a id = 'new_cols'></a>"
   ]
  },
  {
   "cell_type": "markdown",
   "id": "14ce6521-648f-4cb8-8cdf-7ff34c1c94b6",
   "metadata": {},
   "source": [
    "### Adding new columns"
   ]
  },
  {
   "cell_type": "code",
   "execution_count": 16,
   "id": "d3e10759-ab27-4d96-a29f-828a3fc92272",
   "metadata": {},
   "outputs": [],
   "source": [
    "index_jobloc = data_jobs.columns.get_loc('Location')\n",
    "data_jobs.insert(index_jobloc+1, 'fully_remote', 0)\n",
    "data_jobs.insert(index_jobloc+2, 'half_remote', 0)\n",
    "data_jobs.insert(index_jobloc+3, 'Country', '')\n",
    "data_jobs.insert(index_jobloc+4, 'City', '')"
   ]
  },
  {
   "cell_type": "code",
   "execution_count": 17,
   "id": "97a33153-35c1-4068-93ea-2d00c56eb78b",
   "metadata": {},
   "outputs": [
    {
     "data": {
      "text/html": [
       "<div>\n",
       "<style scoped>\n",
       "    .dataframe tbody tr th:only-of-type {\n",
       "        vertical-align: middle;\n",
       "    }\n",
       "\n",
       "    .dataframe tbody tr th {\n",
       "        vertical-align: top;\n",
       "    }\n",
       "\n",
       "    .dataframe thead th {\n",
       "        text-align: right;\n",
       "    }\n",
       "</style>\n",
       "<table border=\"1\" class=\"dataframe\">\n",
       "  <thead>\n",
       "    <tr style=\"text-align: right;\">\n",
       "      <th></th>\n",
       "      <th>Job</th>\n",
       "      <th>Employer</th>\n",
       "      <th>Location</th>\n",
       "      <th>fully_remote</th>\n",
       "      <th>half_remote</th>\n",
       "      <th>Country</th>\n",
       "      <th>City</th>\n",
       "      <th>Start_salary_EUR_mon</th>\n",
       "      <th>End_salary_EUR_mon</th>\n",
       "      <th>WO_CV</th>\n",
       "      <th>Paid_ride_to_work</th>\n",
       "      <th>Housing</th>\n",
       "      <th>Available_for_UKR</th>\n",
       "    </tr>\n",
       "  </thead>\n",
       "  <tbody>\n",
       "    <tr>\n",
       "      <th>0</th>\n",
       "      <td>.NET Programmer</td>\n",
       "      <td>Metrohm Research Slovakia s. r. o.</td>\n",
       "      <td>Einsteinova 33 Petržalka</td>\n",
       "      <td>0</td>\n",
       "      <td>0</td>\n",
       "      <td></td>\n",
       "      <td></td>\n",
       "      <td>2500.0</td>\n",
       "      <td>2500.0</td>\n",
       "      <td>0</td>\n",
       "      <td>0</td>\n",
       "      <td>0</td>\n",
       "      <td>0</td>\n",
       "    </tr>\n",
       "    <tr>\n",
       "      <th>1</th>\n",
       "      <td>.NET Programmer</td>\n",
       "      <td>Metrohm Research Slovakia s. r. o.</td>\n",
       "      <td>Einsteinova 33 Petržalka</td>\n",
       "      <td>0</td>\n",
       "      <td>0</td>\n",
       "      <td></td>\n",
       "      <td></td>\n",
       "      <td>2300.0</td>\n",
       "      <td>3800.0</td>\n",
       "      <td>0</td>\n",
       "      <td>0</td>\n",
       "      <td>0</td>\n",
       "      <td>0</td>\n",
       "    </tr>\n",
       "    <tr>\n",
       "      <th>2</th>\n",
       "      <td>.NET Programmer</td>\n",
       "      <td>CRIF - Slovak Credit Bureau s. r. o.</td>\n",
       "      <td>Štětkova 1638/18 140 00 Praha 4-Nusle Czechia ...</td>\n",
       "      <td>0</td>\n",
       "      <td>0</td>\n",
       "      <td></td>\n",
       "      <td></td>\n",
       "      <td>2300.0</td>\n",
       "      <td>2300.0</td>\n",
       "      <td>0</td>\n",
       "      <td>0</td>\n",
       "      <td>0</td>\n",
       "      <td>0</td>\n",
       "    </tr>\n",
       "  </tbody>\n",
       "</table>\n",
       "</div>"
      ],
      "text/plain": [
       "               Job                              Employer  \\\n",
       "0  .NET Programmer    Metrohm Research Slovakia s. r. o.   \n",
       "1  .NET Programmer    Metrohm Research Slovakia s. r. o.   \n",
       "2  .NET Programmer  CRIF - Slovak Credit Bureau s. r. o.   \n",
       "\n",
       "                                            Location  fully_remote  \\\n",
       "0                           Einsteinova 33 Petržalka             0   \n",
       "1                           Einsteinova 33 Petržalka             0   \n",
       "2  Štětkova 1638/18 140 00 Praha 4-Nusle Czechia ...             0   \n",
       "\n",
       "   half_remote Country City  Start_salary_EUR_mon  End_salary_EUR_mon  WO_CV  \\\n",
       "0            0                             2500.0              2500.0      0   \n",
       "1            0                             2300.0              3800.0      0   \n",
       "2            0                             2300.0              2300.0      0   \n",
       "\n",
       "   Paid_ride_to_work  Housing  Available_for_UKR  \n",
       "0                  0        0                  0  \n",
       "1                  0        0                  0  \n",
       "2                  0        0                  0  "
      ]
     },
     "execution_count": 17,
     "metadata": {},
     "output_type": "execute_result"
    }
   ],
   "source": [
    "data_jobs.head(3)"
   ]
  },
  {
   "cell_type": "markdown",
   "id": "397d4843-bc3d-4f14-8578-e3f317ccc31f",
   "metadata": {},
   "source": [
    "<a id = 'func_city'></a>"
   ]
  },
  {
   "cell_type": "markdown",
   "id": "2162d821-1e9b-4a7a-95e4-3df83366bec8",
   "metadata": {},
   "source": [
    "### Processing by city"
   ]
  },
  {
   "cell_type": "code",
   "execution_count": 18,
   "id": "fd8a50fb-7b18-40b1-9d48-7d660b73f535",
   "metadata": {},
   "outputs": [],
   "source": [
    "#Add a space in the end in order to compare full city names\n",
    "data_jobs.loc[:, 'Location'] += ' '\n",
    "\n",
    "#creating a special loop that will check the location string\n",
    "# and modify the data in the previously created columns\n",
    "\n",
    "#In order to achieve efectiveness, and avoid duplicate\n",
    "# calculations, we will work only with uniques\n",
    "for instance in data_jobs['Location'].unique():\n",
    "    \n",
    "    #skip every NaN value\n",
    "    if pd.isnull(instance):\n",
    "        continue\n",
    "        \n",
    "    #initialize bool variables for each instance\n",
    "    skip_country = False\n",
    "    \n",
    "    for country in countries:\n",
    "        \n",
    "        #if the city was already found, skip all the other countries\n",
    "        if skip_country:\n",
    "            continue\n",
    "            \n",
    "        for city in country['city']:\n",
    "            \n",
    "            # if a city name is in the location string\n",
    "            if ''.join([city.lower(), ' ']) in instance.lower():\n",
    "                skip_country = True #set skip_country to True to skip every other country\n",
    "                #getting the indices of instances with this location\n",
    "                for ind in data_jobs[data_jobs['Location'] == instance].index:\n",
    "                    data_jobs.loc[ind, 'Country'] = country.loc[0, 'country'] #write the country\n",
    "                    data_jobs.loc[ind, 'City'] = city #write the city\n",
    "                break\n",
    "                \n",
    "    # if there is a part that tells about occasional work from home\n",
    "    if 'občasnú prácu z domu' in instance \\\n",
    "    or 'home office' in instance:\n",
    "        for ind in data_jobs[data_jobs['Location'] == instance].index:\n",
    "            data_jobs.loc[ind, 'half_remote'] = 1 #set half remote to 1\n",
    "    \n",
    "    #Else - check for full remote\n",
    "    elif 'Remote' in instance or 'z domu' in instance:\n",
    "        for ind in data_jobs[data_jobs['Location'] == instance].index:\n",
    "            data_jobs.loc[ind, 'fully_remote'] = 1\n",
    "            data_jobs.loc[ind, 'Country'] = float('NaN')\n",
    "            data_jobs.loc[ind, 'City'] = float('NaN')"
   ]
  },
  {
   "cell_type": "code",
   "execution_count": 19,
   "id": "61c25f69-d3df-45f1-ab33-7e05a70b4eed",
   "metadata": {},
   "outputs": [
    {
     "data": {
      "text/html": [
       "<div>\n",
       "<style scoped>\n",
       "    .dataframe tbody tr th:only-of-type {\n",
       "        vertical-align: middle;\n",
       "    }\n",
       "\n",
       "    .dataframe tbody tr th {\n",
       "        vertical-align: top;\n",
       "    }\n",
       "\n",
       "    .dataframe thead th {\n",
       "        text-align: right;\n",
       "    }\n",
       "</style>\n",
       "<table border=\"1\" class=\"dataframe\">\n",
       "  <thead>\n",
       "    <tr style=\"text-align: right;\">\n",
       "      <th></th>\n",
       "      <th>Job</th>\n",
       "      <th>Employer</th>\n",
       "      <th>Location</th>\n",
       "      <th>fully_remote</th>\n",
       "      <th>half_remote</th>\n",
       "      <th>Country</th>\n",
       "      <th>City</th>\n",
       "      <th>Start_salary_EUR_mon</th>\n",
       "      <th>End_salary_EUR_mon</th>\n",
       "      <th>WO_CV</th>\n",
       "      <th>Paid_ride_to_work</th>\n",
       "      <th>Housing</th>\n",
       "      <th>Available_for_UKR</th>\n",
       "    </tr>\n",
       "  </thead>\n",
       "  <tbody>\n",
       "    <tr>\n",
       "      <th>0</th>\n",
       "      <td>.NET Programmer</td>\n",
       "      <td>Metrohm Research Slovakia s. r. o.</td>\n",
       "      <td>Einsteinova 33 Petržalka</td>\n",
       "      <td>0</td>\n",
       "      <td>0</td>\n",
       "      <td>Slovakia</td>\n",
       "      <td>Petržalka</td>\n",
       "      <td>2500.0</td>\n",
       "      <td>2500.0</td>\n",
       "      <td>0</td>\n",
       "      <td>0</td>\n",
       "      <td>0</td>\n",
       "      <td>0</td>\n",
       "    </tr>\n",
       "    <tr>\n",
       "      <th>1</th>\n",
       "      <td>.NET Programmer</td>\n",
       "      <td>Metrohm Research Slovakia s. r. o.</td>\n",
       "      <td>Einsteinova 33 Petržalka</td>\n",
       "      <td>0</td>\n",
       "      <td>0</td>\n",
       "      <td>Slovakia</td>\n",
       "      <td>Petržalka</td>\n",
       "      <td>2300.0</td>\n",
       "      <td>3800.0</td>\n",
       "      <td>0</td>\n",
       "      <td>0</td>\n",
       "      <td>0</td>\n",
       "      <td>0</td>\n",
       "    </tr>\n",
       "    <tr>\n",
       "      <th>2</th>\n",
       "      <td>.NET Programmer</td>\n",
       "      <td>CRIF - Slovak Credit Bureau s. r. o.</td>\n",
       "      <td>Štětkova 1638/18 140 00 Praha 4-Nusle Czechia ...</td>\n",
       "      <td>0</td>\n",
       "      <td>1</td>\n",
       "      <td>Czechia</td>\n",
       "      <td>Prague</td>\n",
       "      <td>2300.0</td>\n",
       "      <td>2300.0</td>\n",
       "      <td>0</td>\n",
       "      <td>0</td>\n",
       "      <td>0</td>\n",
       "      <td>0</td>\n",
       "    </tr>\n",
       "    <tr>\n",
       "      <th>3</th>\n",
       "      <td>.NET Programmer</td>\n",
       "      <td>develogics k. s.</td>\n",
       "      <td>Ulica Závodu Matador Petržalka Slovensko Brati...</td>\n",
       "      <td>0</td>\n",
       "      <td>1</td>\n",
       "      <td>Slovakia</td>\n",
       "      <td>Bratislava</td>\n",
       "      <td>2000.0</td>\n",
       "      <td>2000.0</td>\n",
       "      <td>0</td>\n",
       "      <td>0</td>\n",
       "      <td>0</td>\n",
       "      <td>0</td>\n",
       "    </tr>\n",
       "    <tr>\n",
       "      <th>4</th>\n",
       "      <td>.NET Programmer</td>\n",
       "      <td>Sygic a. s.</td>\n",
       "      <td>Sygic Mlynské nivy Bratislava Slovakia (Job wi...</td>\n",
       "      <td>0</td>\n",
       "      <td>1</td>\n",
       "      <td>Slovakia</td>\n",
       "      <td>Bratislava</td>\n",
       "      <td>2000.0</td>\n",
       "      <td>4000.0</td>\n",
       "      <td>0</td>\n",
       "      <td>0</td>\n",
       "      <td>0</td>\n",
       "      <td>0</td>\n",
       "    </tr>\n",
       "    <tr>\n",
       "      <th>5</th>\n",
       "      <td>.NET Programmer</td>\n",
       "      <td>Sygic a. s.</td>\n",
       "      <td>Sygic Mlynské nivy Bratislava Slovensko (Job w...</td>\n",
       "      <td>0</td>\n",
       "      <td>1</td>\n",
       "      <td>Slovakia</td>\n",
       "      <td>Bratislava</td>\n",
       "      <td>2000.0</td>\n",
       "      <td>4000.0</td>\n",
       "      <td>0</td>\n",
       "      <td>0</td>\n",
       "      <td>0</td>\n",
       "      <td>0</td>\n",
       "    </tr>\n",
       "    <tr>\n",
       "      <th>6</th>\n",
       "      <td>.NET Programmer</td>\n",
       "      <td>ESET spol. s r.o.</td>\n",
       "      <td>Remote work</td>\n",
       "      <td>1</td>\n",
       "      <td>0</td>\n",
       "      <td>NaN</td>\n",
       "      <td>NaN</td>\n",
       "      <td>3200.0</td>\n",
       "      <td>3200.0</td>\n",
       "      <td>0</td>\n",
       "      <td>0</td>\n",
       "      <td>0</td>\n",
       "      <td>1</td>\n",
       "    </tr>\n",
       "    <tr>\n",
       "      <th>7</th>\n",
       "      <td>.NET Programmer</td>\n",
       "      <td>R-DAS s. r. o.</td>\n",
       "      <td>Bratislava Slovakia (Job with occasional home ...</td>\n",
       "      <td>0</td>\n",
       "      <td>1</td>\n",
       "      <td>Slovakia</td>\n",
       "      <td>Bratislava</td>\n",
       "      <td>1200.0</td>\n",
       "      <td>2500.0</td>\n",
       "      <td>0</td>\n",
       "      <td>0</td>\n",
       "      <td>0</td>\n",
       "      <td>0</td>\n",
       "    </tr>\n",
       "    <tr>\n",
       "      <th>8</th>\n",
       "      <td>.NET Programmer</td>\n",
       "      <td>Takeda</td>\n",
       "      <td>Bratislava Slovakia (Job with occasional home ...</td>\n",
       "      <td>0</td>\n",
       "      <td>1</td>\n",
       "      <td>Slovakia</td>\n",
       "      <td>Bratislava</td>\n",
       "      <td>1850.0</td>\n",
       "      <td>1850.0</td>\n",
       "      <td>0</td>\n",
       "      <td>0</td>\n",
       "      <td>0</td>\n",
       "      <td>1</td>\n",
       "    </tr>\n",
       "    <tr>\n",
       "      <th>9</th>\n",
       "      <td>.NET Programmer</td>\n",
       "      <td>KODYS SLOVENSKO s r.o.</td>\n",
       "      <td>Práca z domu</td>\n",
       "      <td>1</td>\n",
       "      <td>0</td>\n",
       "      <td>NaN</td>\n",
       "      <td>NaN</td>\n",
       "      <td>1500.0</td>\n",
       "      <td>3000.0</td>\n",
       "      <td>0</td>\n",
       "      <td>0</td>\n",
       "      <td>0</td>\n",
       "      <td>1</td>\n",
       "    </tr>\n",
       "  </tbody>\n",
       "</table>\n",
       "</div>"
      ],
      "text/plain": [
       "               Job                              Employer  \\\n",
       "0  .NET Programmer    Metrohm Research Slovakia s. r. o.   \n",
       "1  .NET Programmer    Metrohm Research Slovakia s. r. o.   \n",
       "2  .NET Programmer  CRIF - Slovak Credit Bureau s. r. o.   \n",
       "3  .NET Programmer                      develogics k. s.   \n",
       "4  .NET Programmer                           Sygic a. s.   \n",
       "5  .NET Programmer                           Sygic a. s.   \n",
       "6  .NET Programmer                     ESET spol. s r.o.   \n",
       "7  .NET Programmer                        R-DAS s. r. o.   \n",
       "8  .NET Programmer                                Takeda   \n",
       "9  .NET Programmer                KODYS SLOVENSKO s r.o.   \n",
       "\n",
       "                                            Location  fully_remote  \\\n",
       "0                          Einsteinova 33 Petržalka              0   \n",
       "1                          Einsteinova 33 Petržalka              0   \n",
       "2  Štětkova 1638/18 140 00 Praha 4-Nusle Czechia ...             0   \n",
       "3  Ulica Závodu Matador Petržalka Slovensko Brati...             0   \n",
       "4  Sygic Mlynské nivy Bratislava Slovakia (Job wi...             0   \n",
       "5  Sygic Mlynské nivy Bratislava Slovensko (Job w...             0   \n",
       "6                                       Remote work              1   \n",
       "7  Bratislava Slovakia (Job with occasional home ...             0   \n",
       "8  Bratislava Slovakia (Job with occasional home ...             0   \n",
       "9                                      Práca z domu              1   \n",
       "\n",
       "   half_remote   Country        City  Start_salary_EUR_mon  \\\n",
       "0            0  Slovakia   Petržalka                2500.0   \n",
       "1            0  Slovakia   Petržalka                2300.0   \n",
       "2            1   Czechia      Prague                2300.0   \n",
       "3            1  Slovakia  Bratislava                2000.0   \n",
       "4            1  Slovakia  Bratislava                2000.0   \n",
       "5            1  Slovakia  Bratislava                2000.0   \n",
       "6            0       NaN         NaN                3200.0   \n",
       "7            1  Slovakia  Bratislava                1200.0   \n",
       "8            1  Slovakia  Bratislava                1850.0   \n",
       "9            0       NaN         NaN                1500.0   \n",
       "\n",
       "   End_salary_EUR_mon  WO_CV  Paid_ride_to_work  Housing  Available_for_UKR  \n",
       "0              2500.0      0                  0        0                  0  \n",
       "1              3800.0      0                  0        0                  0  \n",
       "2              2300.0      0                  0        0                  0  \n",
       "3              2000.0      0                  0        0                  0  \n",
       "4              4000.0      0                  0        0                  0  \n",
       "5              4000.0      0                  0        0                  0  \n",
       "6              3200.0      0                  0        0                  1  \n",
       "7              2500.0      0                  0        0                  0  \n",
       "8              1850.0      0                  0        0                  1  \n",
       "9              3000.0      0                  0        0                  1  "
      ]
     },
     "execution_count": 19,
     "metadata": {},
     "output_type": "execute_result"
    }
   ],
   "source": [
    "data_jobs.head(10)"
   ]
  },
  {
   "cell_type": "markdown",
   "id": "2a664b34-353b-47fc-b1b3-c4dc3f87d5c4",
   "metadata": {},
   "source": [
    "<br><br>\n",
    "Lets check instances which still have **no city** written:"
   ]
  },
  {
   "cell_type": "code",
   "execution_count": 20,
   "id": "105ee039-eabf-4ed3-b2ab-a87c784ee588",
   "metadata": {},
   "outputs": [
    {
     "name": "stdout",
     "output_type": "stream",
     "text": [
      "All adresses: 22937\n",
      "Unique adresses: 1463\n"
     ]
    }
   ],
   "source": [
    "no_city = data_jobs[data_jobs['City'] == '']\n",
    "all_addr = len(no_city)\n",
    "unique_addr = len(no_city['Location'].unique())\n",
    "print(f'All adresses: {all_addr}')\n",
    "print(f'Unique adresses: {unique_addr}')"
   ]
  },
  {
   "cell_type": "markdown",
   "id": "aff28555-ec75-4793-87e2-aadff6463393",
   "metadata": {},
   "source": [
    "<a id = 'func_dist'></a>"
   ]
  },
  {
   "cell_type": "markdown",
   "id": "8803fd30-1c57-4b0a-86bb-318294324aee",
   "metadata": {},
   "source": [
    "### Processing by district"
   ]
  },
  {
   "cell_type": "markdown",
   "id": "e7654071-4746-4eb1-acdb-5eda2ff3ea24",
   "metadata": {},
   "source": [
    "As we can see, there are certain amount of **unique** adresses out of all, and it can be explained by the fact companies offer **different** jobs at the **same office location**.\n",
    "<br>\n",
    "Since we did not get all the locations, they may not contain city name in Location string, but rather the certain district of a big city, or country. I will create a function that will process data according to administrative names of districts, and then by country names."
   ]
  },
  {
   "cell_type": "code",
   "execution_count": 21,
   "id": "06bb1a67-0434-4042-aa42-41b22690ac0a",
   "metadata": {},
   "outputs": [],
   "source": [
    "#creating function to process data by administrative name\n",
    "for instance in no_city[\"Location\"].unique():\n",
    "    #If NaN - go to the next iteration\n",
    "    if pd.isnull(instance):\n",
    "        continue\n",
    "\n",
    "    skip_country = False #initializing skip_country variable\n",
    "    for country in countries:\n",
    "        #if the country was found previously - then just skip it\n",
    "        if skip_country:\n",
    "            continue\n",
    "        \n",
    "        #a cycle for writing country and city by administrative name\n",
    "        for r_ind, region in enumerate(country['admin_name']):\n",
    "            #if the administrative name is in location\n",
    "            if ''.join([region, ' ']) in instance:\n",
    "                #write the country and city name\n",
    "                for ind in data_jobs[data_jobs['Location']==instance].index:\n",
    "                    data_jobs.loc[ind, 'City'] = country.loc[r_ind, 'city']\n",
    "                    data_jobs.loc[ind, 'Country'] = country.loc[r_ind, 'country']\n",
    "                break"
   ]
  },
  {
   "cell_type": "code",
   "execution_count": 22,
   "id": "1a752035-507f-42c1-a439-8bf6daf54131",
   "metadata": {},
   "outputs": [
    {
     "name": "stdout",
     "output_type": "stream",
     "text": [
      "All adresses: 16566\n",
      "Unique adresses: 1320\n"
     ]
    }
   ],
   "source": [
    "no_city = data_jobs[data_jobs['City'] == '']\n",
    "all_addr = len(no_city)\n",
    "unique_addr = len(no_city['Location'].unique())\n",
    "print(f'All adresses: {all_addr}')\n",
    "print(f'Unique adresses: {unique_addr}')"
   ]
  },
  {
   "cell_type": "markdown",
   "id": "8f0c4289-e2cb-4a9c-9c00-977a534623d3",
   "metadata": {},
   "source": [
    "<a id = 'func_country'></a>"
   ]
  },
  {
   "cell_type": "markdown",
   "id": "2c9a3be3-68c6-42a8-9481-cb11e9a15d35",
   "metadata": {},
   "source": [
    "### Processing by country"
   ]
  },
  {
   "cell_type": "markdown",
   "id": "8294ab7d-5413-4a5c-839f-6bf4c86f5794",
   "metadata": {},
   "source": [
    "The last thing need to be done here is only processing data by **country** (Slovakia + neighboring ones). <br>\n",
    "In order to do that, I will use not only regular country names, but also slovak country names."
   ]
  },
  {
   "cell_type": "code",
   "execution_count": 23,
   "id": "2c116ca6-bc14-4081-be21-ca2a02de727c",
   "metadata": {},
   "outputs": [
    {
     "name": "stdout",
     "output_type": "stream",
     "text": [
      "All adresses: 16566\n",
      "Unique adresses: 1320\n"
     ]
    }
   ],
   "source": [
    "no_country = data_jobs[data_jobs['Country'] == '']\n",
    "all_addr = len(no_country)\n",
    "unique_addr = len(no_country['Location'].unique())\n",
    "print(f'All adresses: {all_addr}')\n",
    "print(f'Unique adresses: {unique_addr}')"
   ]
  },
  {
   "cell_type": "code",
   "execution_count": 24,
   "id": "fcc18fd0-8192-4421-8c59-69d57ff8008b",
   "metadata": {},
   "outputs": [
    {
     "data": {
      "text/plain": [
       "{'Slovensko': 'Slovakia',\n",
       " 'Česko': 'Czechia',\n",
       " 'Rakusko': 'Austria',\n",
       " 'Poľsko': 'Poland',\n",
       " 'Maďarsko': 'Hungary'}"
      ]
     },
     "execution_count": 24,
     "metadata": {},
     "output_type": "execute_result"
    }
   ],
   "source": [
    "#Creating lists of country names\n",
    "sk_countries_names = ['Slovensko', 'Česko', 'Rakusko', 'Poľsko', 'Maďarsko']\n",
    "countries_names = [sk_cities.loc[0, 'country'], cz_cities.loc[0,'country'], \\\n",
    "                   at_cities.loc[0, 'country'], pl_cities.loc[0, 'country'], \\\n",
    "                   hu_cities.loc[0, 'country']]\n",
    "\n",
    "#Creating the dictionary of \"translation\" to regular country names\n",
    "zip_iterator = zip(sk_countries_names, countries_names)\n",
    "sk_country_convdict = dict(zip_iterator)\n",
    "sk_country_convdict"
   ]
  },
  {
   "cell_type": "code",
   "execution_count": 25,
   "id": "d5906f48-26ac-438c-bb08-24747a3ee20a",
   "metadata": {},
   "outputs": [],
   "source": [
    "for instance in no_country['Location'].unique():\n",
    "    if pd.isnull(instance):\n",
    "        continue\n",
    "        \n",
    "    skip_country = False\n",
    "    \n",
    "    for country_name in countries_names:\n",
    "        if ''.join([country_name.lower(), ' ']) in instance.lower():\n",
    "            for ind in data_jobs[data_jobs['Location']==instance].index:\n",
    "                data_jobs.loc[ind, 'Country'] = country_name\n",
    "                data_jobs.loc[ind, 'City'] = 'None'\n",
    "            skip_country = True\n",
    "            break\n",
    "        \n",
    "    for sk_country_name in sk_countries_names:\n",
    "        if ''.join([sk_country_name.lower(), ' ']) in instance.lower():\n",
    "            for ind in data_jobs[data_jobs['Location']==instance].index:\n",
    "                data_jobs.loc[ind, 'Country'] = sk_country_convdict[sk_country_name]\n",
    "                data_jobs.loc[ind, 'City'] = float('NaN')\n",
    "            skip_country = True\n",
    "            break"
   ]
  },
  {
   "cell_type": "code",
   "execution_count": 26,
   "id": "b0f05557-bc25-471b-8b05-7db060e48aa1",
   "metadata": {},
   "outputs": [
    {
     "name": "stdout",
     "output_type": "stream",
     "text": [
      "All adresses: 13982\n",
      "Unique adresses: 1190\n"
     ]
    }
   ],
   "source": [
    "no_country = data_jobs[data_jobs['Country'] == '']\n",
    "all_addr = len(no_country)\n",
    "unique_addr = len(no_country['Location'].unique())\n",
    "print(f'All adresses: {all_addr}')\n",
    "print(f'Unique adresses: {unique_addr}')"
   ]
  },
  {
   "cell_type": "markdown",
   "id": "71c44a78-0f18-4958-8d38-8c2cfe82ca54",
   "metadata": {},
   "source": [
    "All other addresses are **poorly written**, so it is better to automatically treat them as **not written**(`None`)"
   ]
  },
  {
   "cell_type": "code",
   "execution_count": 27,
   "id": "2e0426c0-7936-4757-9195-33965482961f",
   "metadata": {},
   "outputs": [],
   "source": [
    "for ind in no_country.index:\n",
    "    data_jobs.loc[ind, 'Country'] = float('NaN')\n",
    "    data_jobs.loc[ind, 'City'] = float('NaN')"
   ]
  },
  {
   "cell_type": "markdown",
   "id": "ba3f8308-9b9c-44cd-b2f0-d7beae3fecc4",
   "metadata": {},
   "source": [
    "Now it is possible to delete **location column**"
   ]
  },
  {
   "cell_type": "code",
   "execution_count": 28,
   "id": "63b63d0f-68f2-44af-b10b-ef9919d0670f",
   "metadata": {},
   "outputs": [
    {
     "data": {
      "text/html": [
       "<div>\n",
       "<style scoped>\n",
       "    .dataframe tbody tr th:only-of-type {\n",
       "        vertical-align: middle;\n",
       "    }\n",
       "\n",
       "    .dataframe tbody tr th {\n",
       "        vertical-align: top;\n",
       "    }\n",
       "\n",
       "    .dataframe thead th {\n",
       "        text-align: right;\n",
       "    }\n",
       "</style>\n",
       "<table border=\"1\" class=\"dataframe\">\n",
       "  <thead>\n",
       "    <tr style=\"text-align: right;\">\n",
       "      <th></th>\n",
       "      <th>Job</th>\n",
       "      <th>Employer</th>\n",
       "      <th>fully_remote</th>\n",
       "      <th>half_remote</th>\n",
       "      <th>Country</th>\n",
       "      <th>City</th>\n",
       "      <th>Start_salary_EUR_mon</th>\n",
       "      <th>End_salary_EUR_mon</th>\n",
       "      <th>WO_CV</th>\n",
       "      <th>Paid_ride_to_work</th>\n",
       "      <th>Housing</th>\n",
       "      <th>Available_for_UKR</th>\n",
       "    </tr>\n",
       "  </thead>\n",
       "  <tbody>\n",
       "    <tr>\n",
       "      <th>0</th>\n",
       "      <td>.NET Programmer</td>\n",
       "      <td>Metrohm Research Slovakia s. r. o.</td>\n",
       "      <td>0</td>\n",
       "      <td>0</td>\n",
       "      <td>Slovakia</td>\n",
       "      <td>Petržalka</td>\n",
       "      <td>2500.0</td>\n",
       "      <td>2500.0</td>\n",
       "      <td>0</td>\n",
       "      <td>0</td>\n",
       "      <td>0</td>\n",
       "      <td>0</td>\n",
       "    </tr>\n",
       "  </tbody>\n",
       "</table>\n",
       "</div>"
      ],
      "text/plain": [
       "               Job                            Employer  fully_remote  \\\n",
       "0  .NET Programmer  Metrohm Research Slovakia s. r. o.             0   \n",
       "\n",
       "   half_remote   Country       City  Start_salary_EUR_mon  End_salary_EUR_mon  \\\n",
       "0            0  Slovakia  Petržalka                2500.0              2500.0   \n",
       "\n",
       "   WO_CV  Paid_ride_to_work  Housing  Available_for_UKR  \n",
       "0      0                  0        0                  0  "
      ]
     },
     "execution_count": 28,
     "metadata": {},
     "output_type": "execute_result"
    }
   ],
   "source": [
    "data_jobs.drop(labels = 'Location', axis = 1, inplace = True)\n",
    "data_jobs.head(1)"
   ]
  },
  {
   "cell_type": "markdown",
   "id": "5300929e-ea44-432c-8935-f809eed46203",
   "metadata": {},
   "source": [
    "<a id = 'del_dup'></a>"
   ]
  },
  {
   "cell_type": "markdown",
   "id": "4e2f4b4e-1e43-4fe8-b981-d2994a24760b",
   "metadata": {
    "tags": []
   },
   "source": [
    "## Dealing with duplicates"
   ]
  },
  {
   "cell_type": "markdown",
   "id": "e143e66f-feff-49cc-90c1-8e2d05767b07",
   "metadata": {},
   "source": [
    "After some data preparation, we can say that now there are **no uncertainties** in the text data. <br>\n",
    "So, now, it is time to deal with **duplicate job offers**."
   ]
  },
  {
   "cell_type": "code",
   "execution_count": 29,
   "id": "a7bc5c48-fbba-47ef-a9e0-2871d6036bd2",
   "metadata": {},
   "outputs": [
    {
     "name": "stdout",
     "output_type": "stream",
     "text": [
      "133169\n",
      "109890\n"
     ]
    }
   ],
   "source": [
    "#checking how many duplicates are in the dataset\n",
    "print(len(data_jobs))\n",
    "print(len(data_jobs.drop_duplicates(subset = data_jobs.columns,keep = 'first')))"
   ]
  },
  {
   "cell_type": "code",
   "execution_count": 30,
   "id": "706cf3d4-d1b9-4c61-b60b-677363e82ea9",
   "metadata": {},
   "outputs": [],
   "source": [
    "#dropping duplicate rows\n",
    "data_jobs.drop_duplicates(subset = data_jobs.columns,keep = 'first', inplace = True)"
   ]
  },
  {
   "cell_type": "code",
   "execution_count": 31,
   "id": "558dea2d-9a10-4b85-ac4d-4b8e8392702b",
   "metadata": {},
   "outputs": [
    {
     "data": {
      "text/html": [
       "<div>\n",
       "<style scoped>\n",
       "    .dataframe tbody tr th:only-of-type {\n",
       "        vertical-align: middle;\n",
       "    }\n",
       "\n",
       "    .dataframe tbody tr th {\n",
       "        vertical-align: top;\n",
       "    }\n",
       "\n",
       "    .dataframe thead th {\n",
       "        text-align: right;\n",
       "    }\n",
       "</style>\n",
       "<table border=\"1\" class=\"dataframe\">\n",
       "  <thead>\n",
       "    <tr style=\"text-align: right;\">\n",
       "      <th></th>\n",
       "      <th>Job</th>\n",
       "      <th>Employer</th>\n",
       "      <th>fully_remote</th>\n",
       "      <th>half_remote</th>\n",
       "      <th>Country</th>\n",
       "      <th>City</th>\n",
       "      <th>Start_salary_EUR_mon</th>\n",
       "      <th>End_salary_EUR_mon</th>\n",
       "      <th>WO_CV</th>\n",
       "      <th>Paid_ride_to_work</th>\n",
       "      <th>Housing</th>\n",
       "      <th>Available_for_UKR</th>\n",
       "    </tr>\n",
       "  </thead>\n",
       "  <tbody>\n",
       "    <tr>\n",
       "      <th>0</th>\n",
       "      <td>.NET Programmer</td>\n",
       "      <td>Metrohm Research Slovakia s. r. o.</td>\n",
       "      <td>0</td>\n",
       "      <td>0</td>\n",
       "      <td>Slovakia</td>\n",
       "      <td>Petržalka</td>\n",
       "      <td>2500.0</td>\n",
       "      <td>2500.0</td>\n",
       "      <td>0</td>\n",
       "      <td>0</td>\n",
       "      <td>0</td>\n",
       "      <td>0</td>\n",
       "    </tr>\n",
       "    <tr>\n",
       "      <th>1</th>\n",
       "      <td>.NET Programmer</td>\n",
       "      <td>Metrohm Research Slovakia s. r. o.</td>\n",
       "      <td>0</td>\n",
       "      <td>0</td>\n",
       "      <td>Slovakia</td>\n",
       "      <td>Petržalka</td>\n",
       "      <td>2300.0</td>\n",
       "      <td>3800.0</td>\n",
       "      <td>0</td>\n",
       "      <td>0</td>\n",
       "      <td>0</td>\n",
       "      <td>0</td>\n",
       "    </tr>\n",
       "    <tr>\n",
       "      <th>2</th>\n",
       "      <td>.NET Programmer</td>\n",
       "      <td>CRIF - Slovak Credit Bureau s. r. o.</td>\n",
       "      <td>0</td>\n",
       "      <td>1</td>\n",
       "      <td>Czechia</td>\n",
       "      <td>Prague</td>\n",
       "      <td>2300.0</td>\n",
       "      <td>2300.0</td>\n",
       "      <td>0</td>\n",
       "      <td>0</td>\n",
       "      <td>0</td>\n",
       "      <td>0</td>\n",
       "    </tr>\n",
       "    <tr>\n",
       "      <th>3</th>\n",
       "      <td>.NET Programmer</td>\n",
       "      <td>develogics k. s.</td>\n",
       "      <td>0</td>\n",
       "      <td>1</td>\n",
       "      <td>Slovakia</td>\n",
       "      <td>Bratislava</td>\n",
       "      <td>2000.0</td>\n",
       "      <td>2000.0</td>\n",
       "      <td>0</td>\n",
       "      <td>0</td>\n",
       "      <td>0</td>\n",
       "      <td>0</td>\n",
       "    </tr>\n",
       "    <tr>\n",
       "      <th>4</th>\n",
       "      <td>.NET Programmer</td>\n",
       "      <td>Sygic a. s.</td>\n",
       "      <td>0</td>\n",
       "      <td>1</td>\n",
       "      <td>Slovakia</td>\n",
       "      <td>Bratislava</td>\n",
       "      <td>2000.0</td>\n",
       "      <td>4000.0</td>\n",
       "      <td>0</td>\n",
       "      <td>0</td>\n",
       "      <td>0</td>\n",
       "      <td>0</td>\n",
       "    </tr>\n",
       "    <tr>\n",
       "      <th>6</th>\n",
       "      <td>.NET Programmer</td>\n",
       "      <td>ESET spol. s r.o.</td>\n",
       "      <td>1</td>\n",
       "      <td>0</td>\n",
       "      <td>NaN</td>\n",
       "      <td>NaN</td>\n",
       "      <td>3200.0</td>\n",
       "      <td>3200.0</td>\n",
       "      <td>0</td>\n",
       "      <td>0</td>\n",
       "      <td>0</td>\n",
       "      <td>1</td>\n",
       "    </tr>\n",
       "    <tr>\n",
       "      <th>7</th>\n",
       "      <td>.NET Programmer</td>\n",
       "      <td>R-DAS s. r. o.</td>\n",
       "      <td>0</td>\n",
       "      <td>1</td>\n",
       "      <td>Slovakia</td>\n",
       "      <td>Bratislava</td>\n",
       "      <td>1200.0</td>\n",
       "      <td>2500.0</td>\n",
       "      <td>0</td>\n",
       "      <td>0</td>\n",
       "      <td>0</td>\n",
       "      <td>0</td>\n",
       "    </tr>\n",
       "    <tr>\n",
       "      <th>8</th>\n",
       "      <td>.NET Programmer</td>\n",
       "      <td>Takeda</td>\n",
       "      <td>0</td>\n",
       "      <td>1</td>\n",
       "      <td>Slovakia</td>\n",
       "      <td>Bratislava</td>\n",
       "      <td>1850.0</td>\n",
       "      <td>1850.0</td>\n",
       "      <td>0</td>\n",
       "      <td>0</td>\n",
       "      <td>0</td>\n",
       "      <td>1</td>\n",
       "    </tr>\n",
       "    <tr>\n",
       "      <th>9</th>\n",
       "      <td>.NET Programmer</td>\n",
       "      <td>KODYS SLOVENSKO s r.o.</td>\n",
       "      <td>1</td>\n",
       "      <td>0</td>\n",
       "      <td>NaN</td>\n",
       "      <td>NaN</td>\n",
       "      <td>1500.0</td>\n",
       "      <td>3000.0</td>\n",
       "      <td>0</td>\n",
       "      <td>0</td>\n",
       "      <td>0</td>\n",
       "      <td>1</td>\n",
       "    </tr>\n",
       "    <tr>\n",
       "      <th>10</th>\n",
       "      <td>.NET Programmer</td>\n",
       "      <td>Deutsche Telekom IT Solutions Slovakia</td>\n",
       "      <td>0</td>\n",
       "      <td>0</td>\n",
       "      <td>Slovakia</td>\n",
       "      <td>Košice</td>\n",
       "      <td>2000.0</td>\n",
       "      <td>2650.0</td>\n",
       "      <td>0</td>\n",
       "      <td>0</td>\n",
       "      <td>0</td>\n",
       "      <td>1</td>\n",
       "    </tr>\n",
       "  </tbody>\n",
       "</table>\n",
       "</div>"
      ],
      "text/plain": [
       "                Job                                Employer  fully_remote  \\\n",
       "0   .NET Programmer      Metrohm Research Slovakia s. r. o.             0   \n",
       "1   .NET Programmer      Metrohm Research Slovakia s. r. o.             0   \n",
       "2   .NET Programmer    CRIF - Slovak Credit Bureau s. r. o.             0   \n",
       "3   .NET Programmer                        develogics k. s.             0   \n",
       "4   .NET Programmer                             Sygic a. s.             0   \n",
       "6   .NET Programmer                       ESET spol. s r.o.             1   \n",
       "7   .NET Programmer                          R-DAS s. r. o.             0   \n",
       "8   .NET Programmer                                  Takeda             0   \n",
       "9   .NET Programmer                  KODYS SLOVENSKO s r.o.             1   \n",
       "10  .NET Programmer  Deutsche Telekom IT Solutions Slovakia             0   \n",
       "\n",
       "    half_remote   Country        City  Start_salary_EUR_mon  \\\n",
       "0             0  Slovakia   Petržalka                2500.0   \n",
       "1             0  Slovakia   Petržalka                2300.0   \n",
       "2             1   Czechia      Prague                2300.0   \n",
       "3             1  Slovakia  Bratislava                2000.0   \n",
       "4             1  Slovakia  Bratislava                2000.0   \n",
       "6             0       NaN         NaN                3200.0   \n",
       "7             1  Slovakia  Bratislava                1200.0   \n",
       "8             1  Slovakia  Bratislava                1850.0   \n",
       "9             0       NaN         NaN                1500.0   \n",
       "10            0  Slovakia      Košice                2000.0   \n",
       "\n",
       "    End_salary_EUR_mon  WO_CV  Paid_ride_to_work  Housing  Available_for_UKR  \n",
       "0               2500.0      0                  0        0                  0  \n",
       "1               3800.0      0                  0        0                  0  \n",
       "2               2300.0      0                  0        0                  0  \n",
       "3               2000.0      0                  0        0                  0  \n",
       "4               4000.0      0                  0        0                  0  \n",
       "6               3200.0      0                  0        0                  1  \n",
       "7               2500.0      0                  0        0                  0  \n",
       "8               1850.0      0                  0        0                  1  \n",
       "9               3000.0      0                  0        0                  1  \n",
       "10              2650.0      0                  0        0                  1  "
      ]
     },
     "execution_count": 31,
     "metadata": {},
     "output_type": "execute_result"
    }
   ],
   "source": [
    "data_jobs.head(10)"
   ]
  },
  {
   "cell_type": "markdown",
   "id": "4d74d79c-7186-40db-9aa6-98f49231e151",
   "metadata": {},
   "source": [
    "<a id = 'save'></a>"
   ]
  },
  {
   "cell_type": "markdown",
   "id": "f652c8a9-dc9e-4e18-afec-1afa32941469",
   "metadata": {},
   "source": [
    "## Saving the prepared data"
   ]
  },
  {
   "cell_type": "code",
   "execution_count": 33,
   "id": "777fdee0-7958-47ee-926e-035e90597067",
   "metadata": {},
   "outputs": [],
   "source": [
    "data_jobs.to_csv(path_or_buf = 'Prepared Data/prsk_jobs_pr.csv', encoding = 'utf-8', sep = ',')"
   ]
  }
 ],
 "metadata": {
  "kernelspec": {
   "display_name": "Python 3 (ipykernel)",
   "language": "python",
   "name": "python3"
  },
  "language_info": {
   "codemirror_mode": {
    "name": "ipython",
    "version": 3
   },
   "file_extension": ".py",
   "mimetype": "text/x-python",
   "name": "python",
   "nbconvert_exporter": "python",
   "pygments_lexer": "ipython3",
   "version": "3.9.12"
  }
 },
 "nbformat": 4,
 "nbformat_minor": 5
}
